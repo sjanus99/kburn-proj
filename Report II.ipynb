{
 "cells": [
  {
   "cell_type": "markdown",
   "id": "37948b76",
   "metadata": {},
   "source": [
    "### Report II\n",
    "\n",
    "##### Important: < 10 pages SHARP\n",
    "\n",
    "The case of discrete spectral measure (multivariate stable distribution):\n",
    "1. Simulation of stable vectors, illustration (2d histogram, scatterplot, empirical densities).\n",
    "1. Calculation of 2d densities via Nolan's program.\n",
    "1. Estimation of he spectral measure (simple idea from List 5 or Nolan's program).\n",
    "1. Find real-world data, fit stable vector and try to check the goodness of fit. May also check separately each coordinate (univariate distribution). How to find appropriate data: search the literature presented on Nolan's webpage."
   ]
  }
 ],
 "metadata": {
  "kernelspec": {
   "display_name": "Python 3 (ipykernel)",
   "language": "python",
   "name": "python3"
  },
  "language_info": {
   "codemirror_mode": {
    "name": "ipython",
    "version": 3
   },
   "file_extension": ".py",
   "mimetype": "text/x-python",
   "name": "python",
   "nbconvert_exporter": "python",
   "pygments_lexer": "ipython3",
   "version": "3.9.12"
  }
 },
 "nbformat": 4,
 "nbformat_minor": 5
}
